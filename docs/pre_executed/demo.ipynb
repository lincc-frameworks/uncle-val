{
 "cells": [
  {
   "cell_type": "code",
   "id": "95eae00f-af2d-457c-b62f-7cc4230caf48",
   "metadata": {
    "ExecuteTime": {
     "end_time": "2025-10-08T20:15:18.121100Z",
     "start_time": "2025-10-08T20:15:17.092666Z"
    }
   },
   "source": [
    "%load_ext tensorboard\n",
    "%tensorboard --logdir=runs"
   ],
   "outputs": [
    {
     "data": {
      "text/plain": [
       "<IPython.core.display.HTML object>"
      ],
      "text/html": [
       "\n",
       "      <iframe id=\"tensorboard-frame-5a328f1be5d9c6a6\" width=\"100%\" height=\"800\" frameborder=\"0\">\n",
       "      </iframe>\n",
       "      <script>\n",
       "        (function() {\n",
       "          const frame = document.getElementById(\"tensorboard-frame-5a328f1be5d9c6a6\");\n",
       "          const url = new URL(\"/\", window.location);\n",
       "          const port = 6006;\n",
       "          if (port) {\n",
       "            url.port = port;\n",
       "          }\n",
       "          frame.src = url;\n",
       "        })();\n",
       "      </script>\n",
       "    "
      ]
     },
     "metadata": {},
     "output_type": "display_data",
     "jetTransient": {
      "display_id": "4ff449ca622644c24f66f76912afd5d9"
     }
    }
   ],
   "execution_count": 1
  },
  {
   "cell_type": "code",
   "id": "aec188908c977953",
   "metadata": {
    "ExecuteTime": {
     "end_time": "2025-10-08T20:15:18.127085Z",
     "start_time": "2025-10-08T20:15:18.125129Z"
    }
   },
   "source": [
    "BAND = \"r\"\n",
    "NON_EXTENDED_ONLY = True"
   ],
   "outputs": [],
   "execution_count": 2
  },
  {
   "cell_type": "code",
   "id": "a35c764600774a27",
   "metadata": {
    "ExecuteTime": {
     "end_time": "2025-10-08T20:15:18.153284Z",
     "start_time": "2025-10-08T20:15:18.151349Z"
    }
   },
   "source": [
    "N_SRC = 10\n",
    "BATCH_SIZE = 32\n",
    "N_LCS = 400_000"
   ],
   "outputs": [],
   "execution_count": 3
  },
  {
   "cell_type": "code",
   "id": "842e0fb9ed487ca1",
   "metadata": {
    "ExecuteTime": {
     "end_time": "2025-10-08T20:15:18.172925Z",
     "start_time": "2025-10-08T20:15:18.169901Z"
    }
   },
   "source": [
    "DP1_ROOT = \"../../data/dp1\"\n",
    "LSDB_WORKERS = 8"
   ],
   "outputs": [],
   "execution_count": 4
  },
  {
   "cell_type": "code",
   "id": "e1850bbffd983ac6",
   "metadata": {
    "jupyter": {
     "is_executing": true
    },
    "ExecuteTime": {
     "start_time": "2025-10-08T20:15:18.182850Z"
    }
   },
   "source": [
    "from uncle_val.pipelines import run_dp1_linear_flux_err\n",
    "\n",
    "run_dp1_linear_flux_err(\n",
    "    dp1_root=DP1_ROOT,\n",
    "    band=BAND,\n",
    "    non_extended_only=NON_EXTENDED_ONLY,\n",
    "    n_workers=LSDB_WORKERS,\n",
    "    n_src=N_SRC,\n",
    "    n_lcs=N_LCS,\n",
    "    train_batch_size=BATCH_SIZE,\n",
    "    start_tfboard=False,\n",
    "    output_root=\"./runs\",\n",
    ")"
   ],
   "outputs": [
    {
     "name": "stderr",
     "output_type": "stream",
     "text": [
      "/Users/hombit/.virtualenvs/uncle-val/lib/python3.13/site-packages/tensorboard/data/server_ingester.py:25: UserWarning: pkg_resources is deprecated as an API. See https://setuptools.pypa.io/en/latest/pkg_resources.html. The pkg_resources package is slated for removal as early as 2025-11-30. Refrain from using this package or pin to Setuptools<81.\n",
      "  import pkg_resources\n"
     ]
    },
    {
     "name": "stdout",
     "output_type": "stream",
     "text": [
      "Dask Dashboard Link: http://127.0.0.1:8787/status\n"
     ]
    }
   ],
   "execution_count": null
  },
  {
   "cell_type": "code",
   "execution_count": null,
   "id": "48451525-d2cf-4f0a-9213-ea604dfa200b",
   "metadata": {},
   "outputs": [],
   "source": []
  }
 ],
 "metadata": {
  "kernelspec": {
   "display_name": "Python 3 (ipykernel)",
   "language": "python",
   "name": "python3"
  },
  "language_info": {
   "codemirror_mode": {
    "name": "ipython",
    "version": 3
   },
   "file_extension": ".py",
   "mimetype": "text/x-python",
   "name": "python",
   "nbconvert_exporter": "python",
   "pygments_lexer": "ipython3",
   "version": "3.13.7"
  }
 },
 "nbformat": 4,
 "nbformat_minor": 5
}
