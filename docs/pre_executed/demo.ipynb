{
 "cells": [
  {
   "cell_type": "code",
   "id": "a35c764600774a27",
   "metadata": {
    "ExecuteTime": {
     "end_time": "2025-10-10T17:19:52.715569Z",
     "start_time": "2025-10-10T17:19:52.712386Z"
    }
   },
   "source": [
    "# BAND = \"r\"\n",
    "# NON_EXTENDED_ONLY = True\n",
    "\n",
    "N_SRC = 10\n",
    "BATCH_SIZE = 32\n",
    "N_LCS = 2_000_000\n",
    "\n",
    "DP1_ROOT = \"../../data/dp1\"\n",
    "LSDB_WORKERS = 8\n",
    "DEVICE = \"mps\"\n",
    "\n",
    "PLOT_ON_TEST_SET = False\n",
    "PLOT_MAGS = [18, 21, 25]"
   ],
   "outputs": [],
   "execution_count": 1
  },
  {
   "metadata": {
    "ExecuteTime": {
     "end_time": "2025-10-10T17:19:52.726708Z",
     "start_time": "2025-10-10T17:19:52.724450Z"
    }
   },
   "cell_type": "code",
   "source": [
    "# %load_ext tensorboard\n",
    "# %tensorboard --logdir=runs"
   ],
   "id": "858582d49da64343",
   "outputs": [],
   "execution_count": 2
  },
  {
   "metadata": {
    "ExecuteTime": {
     "start_time": "2025-10-10T17:19:52.736172Z"
    }
   },
   "cell_type": "code",
   "source": [
    "from uncle_val.pipelines import run_dp1_mlp\n",
    "\n",
    "model_path = run_dp1_mlp(\n",
    "    dp1_root=DP1_ROOT,\n",
    "    n_workers=LSDB_WORKERS,\n",
    "    n_src=N_SRC,\n",
    "    n_lcs=N_LCS,\n",
    "    train_batch_size=BATCH_SIZE,\n",
    "    start_tfboard=True,\n",
    "    output_root=\"./runs\",\n",
    "    device=DEVICE,\n",
    ")"
   ],
   "id": "7df47bd344a6d2fe",
   "outputs": [
    {
     "name": "stdout",
     "output_type": "stream",
     "text": [
      "Tensorboard Link: http://localhost:6006/\n",
      "Dask Dashboard Link: http://127.0.0.1:8787/status\n"
     ]
    },
    {
     "data": {
      "text/plain": [
       "Validation batches:   0%|          | 0/488 [00:00<?, ?it/s]"
      ],
      "application/vnd.jupyter.widget-view+json": {
       "version_major": 2,
       "version_minor": 0,
       "model_id": "dbd960002b354a2ba37100dd4bceaa4e"
      }
     },
     "metadata": {},
     "output_type": "display_data",
     "jetTransient": {
      "display_id": null
     }
    }
   ],
   "execution_count": null
  }
 ],
 "metadata": {
  "kernelspec": {
   "display_name": "Python 3 (ipykernel)",
   "language": "python",
   "name": "python3"
  },
  "language_info": {
   "codemirror_mode": {
    "name": "ipython",
    "version": 3
   },
   "file_extension": ".py",
   "mimetype": "text/x-python",
   "name": "python",
   "nbconvert_exporter": "python",
   "pygments_lexer": "ipython3",
   "version": "3.13.7"
  }
 },
 "nbformat": 4,
 "nbformat_minor": 5
}
